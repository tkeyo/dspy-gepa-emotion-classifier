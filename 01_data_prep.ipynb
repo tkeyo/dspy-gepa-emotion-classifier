{
 "cells": [
  {
   "cell_type": "markdown",
   "metadata": {},
   "source": [
    "# Data Preparation\n",
    "\n",
    "This notebook prepares the train and validation datasets for the emotion classification experiments.\n",
    "\n",
    "**Dataset source**: [Kaggle Emotion Dataset](https://www.kaggle.com/datasets/parulpandey/emotion-dataset/data)\n",
    "\n",
    "The dataset contains text samples labeled with emotions:\n",
    "- 0: sadness\n",
    "- 1: joy\n",
    "- 2: love\n",
    "- 3: anger\n",
    "- 4: fear\n",
    "\n",
    "We subsample 100 samples from the validation set and split them into train (70) and val (30) sets."
   ]
  },
  {
   "cell_type": "code",
   "execution_count": 26,
   "metadata": {},
   "outputs": [],
   "source": [
    "import pandas as pd\n",
    "import os"
   ]
  },
  {
   "cell_type": "code",
   "execution_count": 27,
   "metadata": {},
   "outputs": [
    {
     "data": {
      "text/plain": [
       "['sadness', 'joy', 'love', 'anger', 'fear']"
      ]
     },
     "execution_count": 27,
     "metadata": {},
     "output_type": "execute_result"
    }
   ],
   "source": [
    "LABEL_MAPPING = {\n",
    "    \"0\": \"sadness\",\n",
    "    \"1\": \"joy\",\n",
    "    \"2\": \"love\",\n",
    "    \"3\": \"anger\",\n",
    "    \"4\": \"fear\"\n",
    "}\n",
    "\n",
    "EMOTION_TYPES = list(LABEL_MAPPING.values())\n",
    "EMOTION_TYPES"
   ]
  },
  {
   "cell_type": "code",
   "execution_count": 28,
   "metadata": {},
   "outputs": [
    {
     "name": "stdout",
     "output_type": "stream",
     "text": [
      "Total samples in validation.csv: 2000\n"
     ]
    },
    {
     "data": {
      "text/html": [
       "<div>\n",
       "<style scoped>\n",
       "    .dataframe tbody tr th:only-of-type {\n",
       "        vertical-align: middle;\n",
       "    }\n",
       "\n",
       "    .dataframe tbody tr th {\n",
       "        vertical-align: top;\n",
       "    }\n",
       "\n",
       "    .dataframe thead th {\n",
       "        text-align: right;\n",
       "    }\n",
       "</style>\n",
       "<table border=\"1\" class=\"dataframe\">\n",
       "  <thead>\n",
       "    <tr style=\"text-align: right;\">\n",
       "      <th></th>\n",
       "      <th>text</th>\n",
       "      <th>label</th>\n",
       "    </tr>\n",
       "  </thead>\n",
       "  <tbody>\n",
       "    <tr>\n",
       "      <th>0</th>\n",
       "      <td>im feeling quite sad and sorry for myself but ...</td>\n",
       "      <td>0</td>\n",
       "    </tr>\n",
       "    <tr>\n",
       "      <th>1</th>\n",
       "      <td>i feel like i am still looking at a blank canv...</td>\n",
       "      <td>0</td>\n",
       "    </tr>\n",
       "    <tr>\n",
       "      <th>2</th>\n",
       "      <td>i feel like a faithful servant</td>\n",
       "      <td>2</td>\n",
       "    </tr>\n",
       "    <tr>\n",
       "      <th>3</th>\n",
       "      <td>i am just feeling cranky and blue</td>\n",
       "      <td>3</td>\n",
       "    </tr>\n",
       "    <tr>\n",
       "      <th>4</th>\n",
       "      <td>i can have for a treat or if i am feeling festive</td>\n",
       "      <td>1</td>\n",
       "    </tr>\n",
       "  </tbody>\n",
       "</table>\n",
       "</div>"
      ],
      "text/plain": [
       "                                                text  label\n",
       "0  im feeling quite sad and sorry for myself but ...      0\n",
       "1  i feel like i am still looking at a blank canv...      0\n",
       "2                     i feel like a faithful servant      2\n",
       "3                  i am just feeling cranky and blue      3\n",
       "4  i can have for a treat or if i am feeling festive      1"
      ]
     },
     "execution_count": 28,
     "metadata": {},
     "output_type": "execute_result"
    }
   ],
   "source": [
    "# Kaggle dataset reference:\n",
    "# https://www.kaggle.com/datasets/parulpandey/emotion-dataset/data\n",
    "\n",
    "# Load the full validation dataset\n",
    "df_full = pd.read_csv(\"validation.csv\")\n",
    "\n",
    "print(f\"Total samples in validation.csv: {len(df_full)}\")\n",
    "df_full.head()"
   ]
  },
  {
   "cell_type": "code",
   "execution_count": 29,
   "metadata": {},
   "outputs": [
    {
     "name": "stdout",
     "output_type": "stream",
     "text": [
      "Sampled 150 samples\n"
     ]
    },
    {
     "data": {
      "text/html": [
       "<div>\n",
       "<style scoped>\n",
       "    .dataframe tbody tr th:only-of-type {\n",
       "        vertical-align: middle;\n",
       "    }\n",
       "\n",
       "    .dataframe tbody tr th {\n",
       "        vertical-align: top;\n",
       "    }\n",
       "\n",
       "    .dataframe thead th {\n",
       "        text-align: right;\n",
       "    }\n",
       "</style>\n",
       "<table border=\"1\" class=\"dataframe\">\n",
       "  <thead>\n",
       "    <tr style=\"text-align: right;\">\n",
       "      <th></th>\n",
       "      <th>emotion</th>\n",
       "      <th>count</th>\n",
       "    </tr>\n",
       "  </thead>\n",
       "  <tbody>\n",
       "    <tr>\n",
       "      <th>0</th>\n",
       "      <td>joy</td>\n",
       "      <td>55</td>\n",
       "    </tr>\n",
       "    <tr>\n",
       "      <th>1</th>\n",
       "      <td>sadness</td>\n",
       "      <td>42</td>\n",
       "    </tr>\n",
       "    <tr>\n",
       "      <th>2</th>\n",
       "      <td>fear</td>\n",
       "      <td>18</td>\n",
       "    </tr>\n",
       "    <tr>\n",
       "      <th>3</th>\n",
       "      <td>love</td>\n",
       "      <td>18</td>\n",
       "    </tr>\n",
       "    <tr>\n",
       "      <th>4</th>\n",
       "      <td>anger</td>\n",
       "      <td>17</td>\n",
       "    </tr>\n",
       "  </tbody>\n",
       "</table>\n",
       "</div>"
      ],
      "text/plain": [
       "   emotion  count\n",
       "0      joy     55\n",
       "1  sadness     42\n",
       "2     fear     18\n",
       "3     love     18\n",
       "4    anger     17"
      ]
     },
     "execution_count": 29,
     "metadata": {},
     "output_type": "execute_result"
    }
   ],
   "source": [
    "# Set random seed for reproducibility\n",
    "RANDOM_SEED = 42\n",
    "N_SAMPLES = 150\n",
    "\n",
    "# Subsample 100 samples reproducibly\n",
    "df_sampled = (\n",
    "    df_full\n",
    "    .assign(\n",
    "        emotion = lambda df_: df_[\"label\"].astype(str).map(LABEL_MAPPING)\n",
    "    )\n",
    "    .query(\"label.isin([0,1,2,3,4])\")\n",
    "    .sample(n=N_SAMPLES, random_state=RANDOM_SEED)\n",
    "    .rename(columns={\"text\": \"user_message\"})\n",
    "    [[\"user_message\", \"emotion\"]]\n",
    "    .reset_index(drop=True)\n",
    ")\n",
    "\n",
    "print(f\"Sampled {len(df_sampled)} samples\")\n",
    "pd.DataFrame(df_sampled['emotion'].value_counts()).reset_index()"
   ]
  },
  {
   "cell_type": "code",
   "execution_count": 30,
   "metadata": {},
   "outputs": [
    {
     "name": "stdout",
     "output_type": "stream",
     "text": [
      "Train size: 100\n",
      "Val size: 50\n"
     ]
    }
   ],
   "source": [
    "# Simple train/val\n",
    "TRAIN_SIZE = 100\n",
    "\n",
    "df_train = df_sampled[:TRAIN_SIZE]\n",
    "df_val = df_sampled[TRAIN_SIZE:]\n",
    "\n",
    "print(f\"Train size: {len(df_train)}\")\n",
    "print(f\"Val size: {len(df_val)}\")"
   ]
  },
  {
   "cell_type": "code",
   "execution_count": 31,
   "metadata": {},
   "outputs": [],
   "source": [
    "# Create data directory if it doesn't exist\n",
    "os.makedirs(\"data\", exist_ok=True)\n",
    "\n",
    "# Save to CSV files\n",
    "df_train.to_csv(\"data/train.csv\", index=False)\n",
    "df_val.to_csv(\"data/val.csv\", index=False)"
   ]
  },
  {
   "cell_type": "code",
   "execution_count": 32,
   "metadata": {},
   "outputs": [
    {
     "name": "stdout",
     "output_type": "stream",
     "text": [
      "\n",
      "Train dataset:\n",
      "                                        user_message emotion\n",
      "0  i must say that i do feel better in myself and...     joy\n",
      "1  i feel so privileged to have spent so much tim...     joy\n",
      "2  i went to see the entrance examination results...     joy\n",
      "3  i wish there was something i could do sitting ...    fear\n",
      "4  i still can t shake the feeling of him loving ...    love\n",
      "\n",
      "Validation dataset:\n",
      "                                        user_message  emotion\n",
      "0  i only find out that they are looking and feel...      joy\n",
      "1  i can feel that my hopes have not been in vain...  sadness\n",
      "2  i know how much work goes into the creation an...      joy\n",
      "3  i feel shamed that i hoped for one last christ...  sadness\n",
      "4  i was feeling very bah humbugish coming out of...      joy\n"
     ]
    }
   ],
   "source": [
    "# Verify the saved files\n",
    "print(\"\\nTrain dataset:\")\n",
    "print(pd.read_csv(\"data/train.csv\").head())\n",
    "\n",
    "print(\"\\nValidation dataset:\")\n",
    "print(pd.read_csv(\"data/val.csv\").head())"
   ]
  },
  {
   "cell_type": "code",
   "execution_count": null,
   "metadata": {},
   "outputs": [],
   "source": []
  }
 ],
 "metadata": {
  "kernelspec": {
   "display_name": ".venv",
   "language": "python",
   "name": "python3"
  },
  "language_info": {
   "codemirror_mode": {
    "name": "ipython",
    "version": 3
   },
   "file_extension": ".py",
   "mimetype": "text/x-python",
   "name": "python",
   "nbconvert_exporter": "python",
   "pygments_lexer": "ipython3",
   "version": "3.11.6"
  }
 },
 "nbformat": 4,
 "nbformat_minor": 4
}
